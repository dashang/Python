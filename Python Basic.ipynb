{
 "cells": [
  {
   "cell_type": "code",
   "execution_count": 8,
   "metadata": {
    "scrolled": true
   },
   "outputs": [
    {
     "name": "stdout",
     "output_type": "stream",
     "text": [
      "This is my first line in python\n"
     ]
    }
   ],
   "source": [
    "print(\"This is my first line in python\")"
   ]
  },
  {
   "cell_type": "code",
   "execution_count": 9,
   "metadata": {},
   "outputs": [
    {
     "name": "stdout",
     "output_type": "stream",
     "text": [
      "13\n",
      "-1\n",
      "42\n",
      "0.8571428571428571\n",
      "6\n",
      "279936\n"
     ]
    }
   ],
   "source": [
    "a=6\n",
    "b=7\n",
    "\n",
    "#addition\n",
    "print(a+b)\n",
    "\n",
    "#subtraction\n",
    "print(a-b)\n",
    "\n",
    "#multiplication\n",
    "print(a*b)\n",
    "\n",
    "#division \n",
    "print(a/b)\n",
    "\n",
    "#remainder\n",
    "print(a%b)\n",
    "\n",
    "#exponential\n",
    "print(a**b)\n"
   ]
  },
  {
   "cell_type": "code",
   "execution_count": 11,
   "metadata": {},
   "outputs": [
    {
     "name": "stdout",
     "output_type": "stream",
     "text": [
      "11.857142857142858\n"
     ]
    }
   ],
   "source": [
    "#BEDMAS\n",
    "\n",
    "print(4*5-9+6/7)"
   ]
  },
  {
   "cell_type": "code",
   "execution_count": 12,
   "metadata": {},
   "outputs": [
    {
     "name": "stdout",
     "output_type": "stream",
     "text": [
      "10\n",
      "9\n"
     ]
    }
   ],
   "source": [
    "inc=9\n",
    "inc+=1\n",
    "print(inc)\n",
    "inc-=1\n",
    "print(inc)"
   ]
  },
  {
   "cell_type": "markdown",
   "metadata": {},
   "source": [
    "## LOGICAL OPERATION"
   ]
  },
  {
   "cell_type": "code",
   "execution_count": 13,
   "metadata": {},
   "outputs": [
    {
     "name": "stdout",
     "output_type": "stream",
     "text": [
      "True\n",
      "False\n",
      "True\n",
      "True\n",
      "True\n"
     ]
    }
   ],
   "source": [
    "#logical\n",
    "\n",
    "print(3<4)\n",
    "print(True and False)\n",
    "print(True or False)\n",
    "print(a!=b)\n",
    "print(True and not False)"
   ]
  },
  {
   "cell_type": "markdown",
   "metadata": {},
   "source": [
    "## STRING OPERATIONS"
   ]
  },
  {
   "cell_type": "code",
   "execution_count": 14,
   "metadata": {},
   "outputs": [
    {
     "name": "stdout",
     "output_type": "stream",
     "text": [
      "There is space at end       \n",
      "There is space at end\n"
     ]
    }
   ],
   "source": [
    "some_sentence= \"There is space at end       \"\n",
    "print(some_sentence)\n",
    "print(some_sentence.rstrip())\n"
   ]
  },
  {
   "cell_type": "code",
   "execution_count": 20,
   "metadata": {},
   "outputs": [
    {
     "name": "stdout",
     "output_type": "stream",
     "text": [
      "4%%%%%\n",
      "%%4\n",
      "4\n"
     ]
    }
   ],
   "source": [
    "# remove characters from left\n",
    "inc='%%4%%%%%'\n",
    "print(inc.lstrip('%'))\n",
    "\n",
    "# remove blank space/characters from right\n",
    "inc='%%4%%%%%'\n",
    "print(inc.rstrip('%'))\n",
    "\n",
    "# remove blank space/characters from full string\n",
    "inc='%%4%%%%%'\n",
    "print(inc.strip('%'))\n"
   ]
  },
  {
   "cell_type": "markdown",
   "metadata": {},
   "source": [
    "## Indexing and Slicing"
   ]
  },
  {
   "cell_type": "code",
   "execution_count": 1,
   "metadata": {},
   "outputs": [
    {
     "name": "stdout",
     "output_type": "stream",
     "text": [
      "number of apples is 2\n"
     ]
    }
   ],
   "source": [
    "val = \"2 apples\"\n",
    "no_of_apples=val[0]\n",
    "print('number of apples is', no_of_apples)"
   ]
  },
  {
   "cell_type": "code",
   "execution_count": 2,
   "metadata": {},
   "outputs": [
    {
     "name": "stdout",
     "output_type": "stream",
     "text": [
      "apples\n"
     ]
    }
   ],
   "source": [
    "what=val[2:]\n",
    "print(what)"
   ]
  },
  {
   "cell_type": "code",
   "execution_count": 3,
   "metadata": {},
   "outputs": [
    {
     "name": "stdout",
     "output_type": "stream",
     "text": [
      "app\n"
     ]
    }
   ],
   "source": [
    "# slicing by specifying start and end index\n",
    "\n",
    "print(val[2:5])"
   ]
  },
  {
   "cell_type": "code",
   "execution_count": 10,
   "metadata": {},
   "outputs": [
    {
     "name": "stdout",
     "output_type": "stream",
     "text": [
      "oranges 3 monkeys n\n"
     ]
    }
   ],
   "source": [
    "batch = \"5 oranges 3 monkeys n\"\n",
    "fruits=batch[2:]\n",
    "print (fruits)"
   ]
  },
  {
   "cell_type": "code",
   "execution_count": 13,
   "metadata": {},
   "outputs": [
    {
     "name": "stdout",
     "output_type": "stream",
     "text": [
      "2468\n",
      "26\n"
     ]
    }
   ],
   "source": [
    "# Jumping on indexes\n",
    "\n",
    "nums = '123456789'\n",
    "even_nums=nums[1::2]\n",
    "print(even_nums)\n",
    "\n",
    "print(nums[1::4])"
   ]
  },
  {
   "cell_type": "code",
   "execution_count": null,
   "metadata": {},
   "outputs": [],
   "source": []
  }
 ],
 "metadata": {
  "kernelspec": {
   "display_name": "Python 3",
   "language": "python",
   "name": "python3"
  },
  "language_info": {
   "codemirror_mode": {
    "name": "ipython",
    "version": 3
   },
   "file_extension": ".py",
   "mimetype": "text/x-python",
   "name": "python",
   "nbconvert_exporter": "python",
   "pygments_lexer": "ipython3",
   "version": "3.6.5"
  }
 },
 "nbformat": 4,
 "nbformat_minor": 2
}
